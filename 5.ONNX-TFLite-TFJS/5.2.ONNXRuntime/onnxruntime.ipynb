{
  "nbformat": 4,
  "nbformat_minor": 0,
  "metadata": {
    "colab": {
      "provenance": [],
      "gpuType": "T4"
    },
    "kernelspec": {
      "name": "python3",
      "display_name": "Python 3"
    },
    "language_info": {
      "name": "python"
    },
    "accelerator": "GPU"
  },
  "cells": [
    {
      "cell_type": "code",
      "source": [
        "!pip install onnx onnx-tf onnxruntime\n",
        "!pip install onnx2tf tensorflowjs onnx-graphsurgeon sng4onnx"
      ],
      "metadata": {
        "id": "pHz8mDnqBPBi"
      },
      "execution_count": null,
      "outputs": []
    },
    {
      "cell_type": "code",
      "source": [
        "!pip install onnx\n",
        "!pip install onnxruntime\n",
        "!pip install onnxruntime-gpu"
      ],
      "metadata": {
        "id": "VPDy5D-GHjXF"
      },
      "execution_count": null,
      "outputs": []
    },
    {
      "cell_type": "markdown",
      "source": [
        "## YOLO"
      ],
      "metadata": {
        "id": "vfWN14QOP9lt"
      }
    },
    {
      "cell_type": "code",
      "execution_count": null,
      "metadata": {
        "id": "mb8pRHUjNgyc"
      },
      "outputs": [],
      "source": [
        "!pip install ultralytics"
      ]
    },
    {
      "cell_type": "code",
      "source": [
        "from ultralytics import YOLO\n",
        "\n",
        "model = YOLO(\"yolov8l.pt\")\n",
        "\n",
        "# results = model(\"bus.jpg\")\n",
        "\n",
        "# for result in results:\n",
        "#     result.save(filename=\"result.jpg\")"
      ],
      "metadata": {
        "id": "Hl1nMRbwNs6K"
      },
      "execution_count": null,
      "outputs": []
    },
    {
      "cell_type": "code",
      "source": [
        "model.export(format=\"tflite\")"
      ],
      "metadata": {
        "id": "Nltbs72kOVlI"
      },
      "execution_count": null,
      "outputs": []
    },
    {
      "cell_type": "code",
      "source": [
        "onnx_model = YOLO(\"yolov8l.onnx\")\n",
        "\n",
        "results = onnx_model(\"bus.jpg\")"
      ],
      "metadata": {
        "id": "hNFgjVnhPEcY"
      },
      "execution_count": null,
      "outputs": []
    },
    {
      "cell_type": "markdown",
      "source": [
        "## Scikit-Learn"
      ],
      "metadata": {
        "id": "_qTOsWmCQAaZ"
      }
    },
    {
      "cell_type": "code",
      "source": [
        "!pip install skl2onnx"
      ],
      "metadata": {
        "id": "bYoVna-4RSgI"
      },
      "execution_count": null,
      "outputs": []
    },
    {
      "cell_type": "code",
      "source": [
        "import numpy as np\n",
        "from sklearn.datasets import load_iris\n",
        "from sklearn.model_selection import train_test_split\n",
        "from sklearn.ensemble import RandomForestClassifier\n",
        "from sklearn.neighbors import KNeighborsClassifier\n",
        "from sklearn.neural_network import MLPClassifier\n",
        "\n",
        "iris = load_iris()\n",
        "X, y = iris.data, iris.target\n",
        "X = X.astype(np.float32)\n",
        "X_train, X_test, y_train, y_test = train_test_split(X, y)\n",
        "\n",
        "# model = RandomForestClassifier()\n",
        "# model = KNeighborsClassifier(n_neighbors=3)\n",
        "model = MLPClassifier(random_state=1, max_iter=300)\n",
        "model.fit(X_train, y_train)"
      ],
      "metadata": {
        "id": "djl0nBztPz_8"
      },
      "execution_count": null,
      "outputs": []
    },
    {
      "cell_type": "code",
      "source": [
        "import skl2onnx\n",
        "\n",
        "onnx_model = skl2onnx.to_onnx(model, X[0])\n",
        "with open(\"scikit_kearn_onnx_model.onnx\", \"wb\") as f:\n",
        "    f.write(onnx_model.SerializeToString())"
      ],
      "metadata": {
        "id": "57p628xAROK8"
      },
      "execution_count": null,
      "outputs": []
    },
    {
      "cell_type": "code",
      "source": [
        "import onnxruntime as ort\n",
        "\n",
        "onnx_session = ort.InferenceSession(\n",
        "    \"scikit_kearn_onnx_model.onnx\",\n",
        "    providers=[\"CPUExecutionProvider\"])"
      ],
      "metadata": {
        "id": "07oYlx2wIO__"
      },
      "execution_count": null,
      "outputs": []
    },
    {
      "cell_type": "code",
      "source": [
        "input_name = onnx_session.get_inputs()[0].name\n",
        "output_name = onnx_session.get_outputs()[0].name\n",
        "input_name, output_name"
      ],
      "metadata": {
        "id": "n20v9SWNK3FR"
      },
      "execution_count": null,
      "outputs": []
    },
    {
      "cell_type": "code",
      "source": [
        "pred = onnx_session.run(\n",
        "    ['output_label'],\n",
        "    {'X': X_test[0]}\n",
        "    )\n",
        "pred"
      ],
      "metadata": {
        "id": "GKjmohJqKz1m"
      },
      "execution_count": null,
      "outputs": []
    },
    {
      "cell_type": "markdown",
      "source": [
        "## PyTorch"
      ],
      "metadata": {
        "id": "rjKi3xwSTMXz"
      }
    },
    {
      "cell_type": "code",
      "source": [
        "!pip install onnx\n",
        "!pip install onnxscript"
      ],
      "metadata": {
        "id": "Q7MzDZH5St6Z"
      },
      "execution_count": null,
      "outputs": []
    },
    {
      "cell_type": "code",
      "source": [
        "import torch\n",
        "import torch.nn as nn\n",
        "import torch.nn.functional as F\n",
        "\n",
        "\n",
        "class MyModel(nn.Module):\n",
        "    def __init__(self):\n",
        "        super(MyModel, self).__init__()\n",
        "        self.conv1 = nn.Conv2d(1, 6, 5)\n",
        "        self.conv2 = nn.Conv2d(6, 16, 5)\n",
        "        self.fc1 = nn.Linear(16 * 5 * 5, 120)\n",
        "        self.fc2 = nn.Linear(120, 84)\n",
        "        self.fc3 = nn.Linear(84, 10)\n",
        "\n",
        "    def forward(self, x):\n",
        "        x = F.max_pool2d(F.relu(self.conv1(x)), (2, 2))\n",
        "        x = F.max_pool2d(F.relu(self.conv2(x)), 2)\n",
        "        x = torch.flatten(x, 1)\n",
        "        x = F.relu(self.fc1(x))\n",
        "        x = F.relu(self.fc2(x))\n",
        "        x = self.fc3(x)\n",
        "        return x"
      ],
      "metadata": {
        "id": "wy9nxLZITcSZ"
      },
      "execution_count": null,
      "outputs": []
    },
    {
      "cell_type": "code",
      "source": [
        "torch_model = MyModel()\n",
        "torch_input = torch.randn(1, 1, 32, 32)\n",
        "onnx_program = torch.onnx.dynamo_export(torch_model, torch_input)"
      ],
      "metadata": {
        "id": "b_5gvb6lTpJs"
      },
      "execution_count": null,
      "outputs": []
    },
    {
      "cell_type": "code",
      "source": [
        "onnx_program.save(\"my_image_classifier.onnx\")"
      ],
      "metadata": {
        "id": "WNDfRrzbUF6z"
      },
      "execution_count": null,
      "outputs": []
    },
    {
      "cell_type": "code",
      "source": [
        "import onnx\n",
        "onnx_model = onnx.load(\"my_image_classifier.onnx\")\n",
        "onnx.checker.check_model(onnx_model)"
      ],
      "metadata": {
        "id": "0JVkkpb5UnCR"
      },
      "execution_count": null,
      "outputs": []
    },
    {
      "cell_type": "code",
      "source": [
        "import onnxruntime as ort\n",
        "\n",
        "onnx_session = ort.InferenceSession(\n",
        "    \"my_image_classifier.onnx\",\n",
        "    providers=[\"CPUExecutionProvider\"])\n",
        "\n",
        "input_name = onnx_session.get_inputs()[0].name\n",
        "output_name = onnx_session.get_outputs()[0].name\n",
        "# print(input_name, output_name)\n",
        "\n",
        "onnx_input = torch_input.detach().cpu().numpy()\n",
        "\n",
        "pred = onnx_session.run(\n",
        "    [output_name],\n",
        "    {input_name: onnx_input}\n",
        ")\n",
        "\n",
        "pred"
      ],
      "metadata": {
        "id": "mKD1lZJiNody"
      },
      "execution_count": null,
      "outputs": []
    },
    {
      "cell_type": "code",
      "source": [
        "onnxruntime_outputs = pred"
      ],
      "metadata": {
        "id": "wkepN4ilW1Rp"
      },
      "execution_count": null,
      "outputs": []
    },
    {
      "cell_type": "code",
      "source": [
        "torch_outputs = torch_model(torch_input)\n",
        "torch_outputs = onnx_program.adapt_torch_outputs_to_onnx(torch_outputs)\n",
        "\n",
        "assert len(torch_outputs) == len(onnxruntime_outputs)\n",
        "for torch_output, onnxruntime_output in zip(torch_outputs, onnxruntime_outputs):\n",
        "    torch.testing.assert_close(torch_output, torch.tensor(onnxruntime_output))\n",
        "\n",
        "print(\"PyTorch and ONNX Runtime output matched!\")\n",
        "print(f\"Output length: {len(onnxruntime_outputs)}\")\n",
        "print(f\"Sample output: {onnxruntime_outputs}\")"
      ],
      "metadata": {
        "id": "rS0MhAHLWQBJ"
      },
      "execution_count": null,
      "outputs": []
    },
    {
      "cell_type": "markdown",
      "source": [
        "## TensorFlow"
      ],
      "metadata": {
        "id": "5d0qQdl3Vjjc"
      }
    },
    {
      "cell_type": "code",
      "source": [
        "!pip install tf2onnx"
      ],
      "metadata": {
        "id": "9bDCiqNwWMhT"
      },
      "execution_count": null,
      "outputs": []
    },
    {
      "cell_type": "code",
      "source": [
        "import numpy as np\n",
        "import tensorflow as tf\n",
        "from tensorflow.keras.applications.resnet50 import ResNet50\n",
        "\n",
        "\n",
        "model = ResNet50(weights=\"imagenet\", include_top=True)"
      ],
      "metadata": {
        "id": "WUVOnA4BVlV2"
      },
      "execution_count": null,
      "outputs": []
    },
    {
      "cell_type": "code",
      "source": [
        "import tf2onnx\n",
        "\n",
        "input_data = tf.TensorSpec(\n",
        "        model.inputs[0].shape,\n",
        "        dtype=model.inputs[0].dtype,\n",
        "        name=model.inputs[0].name\n",
        "    )\n",
        "\n",
        "onnx_model, _ = tf2onnx.convert.from_keras(model, [input_data])"
      ],
      "metadata": {
        "id": "1L_lfU20WGNF"
      },
      "execution_count": null,
      "outputs": []
    },
    {
      "cell_type": "code",
      "source": [
        "import onnx\n",
        "onnx.save(onnx_model, \"resnet50.onnx\")"
      ],
      "metadata": {
        "id": "NZWGkF3DYazg"
      },
      "execution_count": null,
      "outputs": []
    },
    {
      "cell_type": "code",
      "source": [
        "import onnxruntime as ort\n",
        "import numpy as np\n",
        "from PIL import Image\n",
        "from tensorflow.keras.applications.resnet50 import decode_predictions\n",
        "\n",
        "\n",
        "onnx_session = ort.InferenceSession(\n",
        "    \"resnet50.onnx\",\n",
        "    providers=[\"CPUExecutionProvider\"]\n",
        "    )\n",
        "\n",
        "input_name = onnx_session.get_inputs()[0].name\n",
        "output_name = onnx_session.get_outputs()[0].name\n",
        "# print(input_name, output_name)\n",
        "\n",
        "# onnx_input = np.random.normal(size=[1, 224, 224, 3]).astype(np.float32)\n",
        "image = Image.open(\"/content/2010-kodiak-bear-1.jpg\")\n",
        "image = image.resize((224, 224))  # Resize the image to 224x224 as expected by ResNet50\n",
        "image = np.array(image).astype(np.float32)\n",
        "image = np.expand_dims(image, axis=0)\n",
        "onnx_input = image\n",
        "\n",
        "pred = onnx_session.run(\n",
        "    [output_name],\n",
        "    {input_name: onnx_input}\n",
        ")"
      ],
      "metadata": {
        "id": "feYv8HTaYyiL"
      },
      "execution_count": null,
      "outputs": []
    },
    {
      "cell_type": "code",
      "source": [
        "decode_predictions(pred[0])"
      ],
      "metadata": {
        "id": "2yEyl8RyQrTf"
      },
      "execution_count": null,
      "outputs": []
    }
  ]
}