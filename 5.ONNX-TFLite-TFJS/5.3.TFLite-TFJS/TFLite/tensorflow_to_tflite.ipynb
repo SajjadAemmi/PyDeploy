{
  "nbformat": 4,
  "nbformat_minor": 0,
  "metadata": {
    "colab": {
      "provenance": []
    },
    "kernelspec": {
      "name": "python3",
      "display_name": "Python 3"
    },
    "language_info": {
      "name": "python"
    }
  },
  "cells": [
    {
      "cell_type": "code",
      "source": [
        "import numpy as np\n",
        "import tensorflow as tf\n",
        "from tensorflow.keras.applications.resnet50 import ResNet50\n",
        "from tensorflow.keras.models import load_model"
      ],
      "metadata": {
        "id": "_ZJIMH7hRY9U"
      },
      "execution_count": 1,
      "outputs": []
    },
    {
      "cell_type": "code",
      "source": [
        "# Load and save TensorFlow model\n",
        "tf_model = ResNet50(weights=\"imagenet\", include_top=True)\n",
        "tf_model_path = \"./resnet50_tf_model/\"\n",
        "tf_model.export(tf_model_path)"
      ],
      "metadata": {
        "id": "F_wWDGyxRZ_i"
      },
      "execution_count": null,
      "outputs": []
    },
    {
      "cell_type": "code",
      "execution_count": 3,
      "metadata": {
        "id": "vcEPgxGkRG7C"
      },
      "outputs": [],
      "source": [
        "# Convert the TensorFlow model to TFLite\n",
        "converter = tf.lite.TFLiteConverter.from_saved_model(tf_model_path)\n",
        "tflite_model = converter.convert()\n",
        "\n",
        "# Save the TFLite model to a file\n",
        "tflite_model_path = \"resnet50.tflite\"\n",
        "with open(tflite_model_path, \"wb\") as f:\n",
        "    f.write(tflite_model)"
      ]
    }
  ]
}