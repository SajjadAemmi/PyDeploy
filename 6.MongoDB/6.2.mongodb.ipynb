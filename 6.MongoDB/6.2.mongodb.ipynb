{
 "cells": [
  {
   "cell_type": "code",
   "execution_count": null,
   "metadata": {},
   "outputs": [],
   "source": [
    "results = mydb.user.aggregate([\n",
    "    {\"$vectorSearch\": {\n",
    "        \"queryVector\": query_vector,\n",
    "        \"path\": \"embedding\",\n",
    "        \"numCandidates\": num_candidates,\n",
    "        \"limit\": limit,\n",
    "        \"index\": \"vector_index\",\n",
    "        }}\n",
    "    ])\n",
    "\n",
    "for result in results:\n",
    "    print(result)"
   ]
  },
  {
   "cell_type": "code",
   "execution_count": null,
   "metadata": {},
   "outputs": [],
   "source": [
    "# vector search\n",
    "\n",
    "{\n",
    "  \"fields\": [\n",
    "    {\n",
    "      \"numDimensions\": 512,\n",
    "      \"path\": \"embedding\",\n",
    "      \"similarity\": \"euclidean\",\n",
    "      \"type\": \"vector\"\n",
    "    }\n",
    "  ]\n",
    "}"
   ]
  }
 ],
 "metadata": {
  "language_info": {
   "name": "python"
  }
 },
 "nbformat": 4,
 "nbformat_minor": 2
}
